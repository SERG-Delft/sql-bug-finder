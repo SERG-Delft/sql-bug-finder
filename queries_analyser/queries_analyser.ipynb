{
 "cells": [
  {
   "cell_type": "markdown",
   "metadata": {},
   "source": [
    "### Imports"
   ]
  },
  {
   "cell_type": "code",
   "execution_count": 1,
   "metadata": {},
   "outputs": [],
   "source": [
    "import os\n",
    "import pickle\n",
    "import pymysql\n",
    "import datetime\n",
    "import scipy.stats\n",
    "import numpy as np\n",
    "import pandas as pd\n",
    "import seaborn as sns\n",
    "import matplotlib.pyplot as plt\n",
    "from scipy.stats import f_oneway\n",
    "%matplotlib inline"
   ]
  },
  {
   "cell_type": "markdown",
   "metadata": {},
   "source": [
    "### MySQL Settings"
   ]
  },
  {
   "cell_type": "code",
   "execution_count": 2,
   "metadata": {},
   "outputs": [],
   "source": [
    "conn = pymysql.connect(host='localhost', port=3306, user='root', password='root', db='homedb')"
   ]
  },
  {
   "cell_type": "markdown",
   "metadata": {},
   "source": [
    "### Research Questions\n",
    "\n",
    "1. How much time on average does it take for an SQL tagged question to be answered? DONE <input type='checkbox' checked></input><br>\n",
    "2. How many of the extracted SQL queries are syntactically (in)valid? DONE <input type='checkbox' checked></input><br>\n",
    "3. How many of the extracted SQL queries have semantic bugs? DONE <input type='checkbox' checked></input><br>\n",
    "4. How many semantic bugs do the extracted queries have on average? DONE <input type='checkbox' checked></input><br>\n",
    "5. What is the distribution of the semantic bugs? DONE <input type='checkbox' checked></input><br>\n",
    "6. How many of the accepted answers have syntactically (in)valid SQL queries? DONE <input type='checkbox'></input><br>\n",
    "7. How many of the accepted answers have semantically (in)valid SQL queries? DONE <input type='checkbox'></input><br>\n",
    "8. How many syntactically (in)valid SQL queries does a question have on average? DONE <input type='checkbox'></input><br>\n",
    "9. How many semantically (in)valid SQL queries does a question have on average? DONE <input type='checkbox'></input><br>\n",
    "10. Do users talk about semantic bugs in the posts where these are identified? DONE <input type='checkbox'></input><br>\n",
    "11. Do users realize that their SQL queries contain semantic bugs? DONE <input type='checkbox'></input><br>"
   ]
  },
  {
   "cell_type": "markdown",
   "metadata": {},
   "source": [
    "### Code"
   ]
  },
  {
   "cell_type": "markdown",
   "metadata": {},
   "source": [
    "##### RQ 1: How much time on average does it take for an SQL tagged question to be answered?"
   ]
  },
  {
   "cell_type": "code",
   "execution_count": null,
   "metadata": {},
   "outputs": [],
   "source": [
    "get_questions = 'SELECT * FROM questions ORDER BY score DESC'\n",
    "get_answer = 'SELECT * FROM answers WHERE answer_id = %(id)s'\n",
    "\n",
    "df = pd.read_sql(get_questions, conn)\n",
    "\n",
    "def answer_time(row):\n",
    "    answer = None\n",
    "    # get the accepted answer if it exists and compute the time delta\n",
    "    if row.accepted_answer_id != -1:\n",
    "        answer = pd.read_sql(get_answer, params={'id': row.accepted_answer_id}, con=conn)\n",
    "        if len(answer) > 0:\n",
    "            return answer.iloc[0].creation_date.to_pydatetime() - row.creation_date.to_pydatetime()\n",
    "    return None\n",
    "\n",
    "df['answer_time'] = df.apply(answer_time, axis=1)"
   ]
  },
  {
   "cell_type": "code",
   "execution_count": null,
   "metadata": {},
   "outputs": [],
   "source": [
    "df['answer_time'].median()"
   ]
  },
  {
   "cell_type": "markdown",
   "metadata": {},
   "source": [
    "##### RQ 2: How many of the extracted SQL queries are syntactically valid?"
   ]
  },
  {
   "cell_type": "code",
   "execution_count": 3,
   "metadata": {},
   "outputs": [
    {
     "name": "stdout",
     "output_type": "stream",
     "text": [
      "valid queries: 172841\n",
      "invalid queries: 222789\n"
     ]
    }
   ],
   "source": [
    "get_valid_queries = 'SELECT * FROM queries WHERE is_valid = 1'\n",
    "get_invalid_queries = 'SELECT * FROM queries WHERE is_valid = 0'\n",
    "\n",
    "valid_queries = pd.read_sql(get_valid_queries, conn)\n",
    "invalid_queries = pd.read_sql(get_invalid_queries, conn)\n",
    "print(f'valid queries: {len(valid_queries)}')\n",
    "print(f'invalid queries: {len(invalid_queries)}')"
   ]
  },
  {
   "cell_type": "markdown",
   "metadata": {},
   "source": [
    "##### RQ 3: How many of the extracted SQL queries have semantic bugs?"
   ]
  },
  {
   "cell_type": "code",
   "execution_count": 4,
   "metadata": {},
   "outputs": [
    {
     "name": "stdout",
     "output_type": "stream",
     "text": [
      "queries with semantic bugs: 28377\n"
     ]
    }
   ],
   "source": [
    "get_bugs = 'SELECT * FROM bugs'\n",
    "\n",
    "bugs = pd.read_sql(get_bugs, conn)\n",
    "print(f'queries with semantic bugs: {len(bugs)}')"
   ]
  },
  {
   "cell_type": "markdown",
   "metadata": {},
   "source": [
    "##### RQ 4: How many semantic bugs do the extracted queries have on average?"
   ]
  },
  {
   "cell_type": "code",
   "execution_count": 5,
   "metadata": {},
   "outputs": [
    {
     "name": "stdout",
     "output_type": "stream",
     "text": [
      "semantic bugs on average: 0.16417979530319773\n"
     ]
    }
   ],
   "source": [
    "get_bugs = 'SELECT * FROM bugs'\n",
    "\n",
    "bugs_dict = dict()\n",
    "bugs = pd.read_sql(get_bugs, conn)\n",
    "\n",
    "def count_bugs(row):\n",
    "    errors = row.errors.split(',')\n",
    "    num = len(errors)\n",
    "    bugs_dict[num] = bugs_dict.get(num, 0) + 1\n",
    "    return num\n",
    "\n",
    "bugs['errors'] = bugs.apply(count_bugs, axis=1)\n",
    "tmp = bugs['errors'].count() / len(valid_queries)\n",
    "print(f'semantic bugs on average: {tmp}')"
   ]
  },
  {
   "cell_type": "code",
   "execution_count": 6,
   "metadata": {},
   "outputs": [
    {
     "data": {
      "text/plain": [
       "<matplotlib.axes._subplots.AxesSubplot at 0x1f10272f408>"
      ]
     },
     "execution_count": 6,
     "metadata": {},
     "output_type": "execute_result"
    },
    {
     "data": {
      "image/png": "[encoded data removed]",
      "text/plain": [
       "<Figure size 432x288 with 1 Axes>"
      ]
     },
     "metadata": {
      "needs_background": "light"
     },
     "output_type": "display_data"
    }
   ],
   "source": [
    "bugs['errors'].hist(bins=10)"
   ]
  },
  {
   "cell_type": "code",
   "execution_count": 7,
   "metadata": {},
   "outputs": [
    {
     "name": "stdout",
     "output_type": "stream",
     "text": [
      "{1: 24227, 2: 3565, 3: 549, 4: 34, 5: 2}\n"
     ]
    }
   ],
   "source": [
    "print(bugs_dict)"
   ]
  },
  {
   "cell_type": "markdown",
   "metadata": {},
   "source": [
    "##### RQ 5: What is the distribution of the semantic bugs?"
   ]
  },
  {
   "cell_type": "code",
   "execution_count": 10,
   "metadata": {},
   "outputs": [],
   "source": [
    "get_bugs = 'SELECT * FROM bugs'\n",
    "error_codes = dict()\n",
    "\n",
    "bugs = pd.read_sql(get_bugs, conn)\n",
    "\n",
    "def count_error_codes(row):\n",
    "    errors = row.errors.replace('[', '').replace(']', '')\n",
    "    errors = errors.split(',')\n",
    "    for error in errors:\n",
    "        error = error.replace(',', '').strip()\n",
    "        if error_codes.get(error) is not None:\n",
    "            error_codes[error] += 1\n",
    "        else:\n",
    "            error_codes[error] = 1\n",
    "\n",
    "bugs['errors'] = bugs.apply(count_error_codes, axis=1)\n",
    "\n",
    "\n",
    "get_bugs = 'SELECT * FROM evo_sql_bugs'\n",
    "bugs = pd.read_sql(get_bugs, conn)\n",
    "bugs['errors'] = bugs.apply(count_error_codes, axis=1)\n",
    "\n",
    "error_codes_sorted = dict()\n",
    "for key in sorted(error_codes):\n",
    "    error_codes_sorted[key] = error_codes[key]\n",
    "error_codes = error_codes_sorted"
   ]
  },
  {
   "cell_type": "code",
   "execution_count": 11,
   "metadata": {},
   "outputs": [
    {
     "data": {
      "image/png": "[encoded data removed]",
      "text/plain": [
       "<Figure size 1080x360 with 1 Axes>"
      ]
     },
     "metadata": {
      "needs_background": "light"
     },
     "output_type": "display_data"
    }
   ],
   "source": [
    "plt.figure(figsize=(15, 5))\n",
    "plt.bar(range(len(error_codes)), list(error_codes.values()), align='edge', width=0.3)\n",
    "plt.xticks(range(len(error_codes)), list(error_codes.keys()))\n",
    "# plt.savefig('prevalence.pdf', dpi=300, format='pdf', bbox_inches='tight')\n",
    "plt.show()"
   ]
  },
  {
   "cell_type": "code",
   "execution_count": null,
   "metadata": {},
   "outputs": [],
   "source": [
    "x = list()\n",
    "y = list()\n",
    "for key, value in error_codes.items():\n",
    "    x.append(key)\n",
    "    y.append(value)\n",
    "\n",
    "plt.figure(figsize=(15, 5))\n",
    "sns.barplot(x, y, palette='Blues')\n",
    "plt.show()"
   ]
  },
  {
   "cell_type": "code",
   "execution_count": null,
   "metadata": {},
   "outputs": [],
   "source": [
    "E = len(pd.read_sql('SELECT * FROM queries WHERE is_valid = 1', conn))\n",
    "E001 = len(pd.read_sql('SELECT * FROM bugs WHERE errors LIKE \"%E001%\"', conn))\n",
    "E002 = len(pd.read_sql('SELECT * FROM bugs WHERE errors LIKE \"%E002%\"', conn))\n",
    "E003 = len(pd.read_sql('SELECT * FROM bugs WHERE errors LIKE \"%E003%\"', conn))\n",
    "E004 = len(pd.read_sql('SELECT * FROM bugs WHERE errors LIKE \"%E004%\"', conn))\n",
    "E005 = len(pd.read_sql('SELECT * FROM bugs WHERE errors LIKE \"%E005%\"', conn))\n",
    "E006 = len(pd.read_sql('SELECT * FROM bugs WHERE errors LIKE \"%E006%\"', conn))\n",
    "E007 = len(pd.read_sql('SELECT * FROM bugs WHERE errors LIKE \"%E007%\"', conn))\n",
    "E008 = len(pd.read_sql('SELECT * FROM bugs WHERE errors LIKE \"%E008%\"', conn))\n",
    "E009 = len(pd.read_sql('SELECT * FROM bugs WHERE errors LIKE \"%E009%\"', conn))\n",
    "E010 = len(pd.read_sql('SELECT * FROM bugs WHERE errors LIKE \"%E010%\"', conn))\n",
    "E011 = len(pd.read_sql('SELECT * FROM bugs WHERE errors LIKE \"%E011%\"', conn))\n",
    "E012 = len(pd.read_sql('SELECT * FROM bugs WHERE errors LIKE \"%E012%\"', conn))\n",
    "E013 = len(pd.read_sql('SELECT * FROM bugs WHERE errors LIKE \"%E013%\"', conn))\n",
    "E014 = len(pd.read_sql('SELECT * FROM bugs WHERE errors LIKE \"%E014%\"', conn))\n",
    "E015 = len(pd.read_sql('SELECT * FROM bugs WHERE errors LIKE \"%E015%\"', conn))\n",
    "E016 = len(pd.read_sql('SELECT * FROM bugs WHERE errors LIKE \"%E016%\"', conn))\n",
    "E017 = len(pd.read_sql('SELECT * FROM bugs WHERE errors LIKE \"%E017%\"', conn))\n",
    "E018 = len(pd.read_sql('SELECT * FROM bugs WHERE errors LIKE \"%E018%\"', conn))\n",
    "E019 = len(pd.read_sql('SELECT * FROM bugs WHERE errors LIKE \"%E019%\"', conn))\n",
    "E020 = len(pd.read_sql('SELECT * FROM bugs WHERE errors LIKE \"%E020%\"', conn))\n",
    "E021 = len(pd.read_sql('SELECT * FROM bugs WHERE errors LIKE \"%E021%\"', conn))\n",
    "E022 = len(pd.read_sql('SELECT * FROM bugs WHERE errors LIKE \"%E022%\"', conn))\n",
    "E023 = len(pd.read_sql('SELECT * FROM bugs WHERE errors LIKE \"%E023%\"', conn))\n",
    "E024 = len(pd.read_sql('SELECT * FROM bugs WHERE errors LIKE \"%E024%\"', conn))\n",
    "E025 = len(pd.read_sql('SELECT * FROM bugs WHERE errors LIKE \"%E025%\"', conn))"
   ]
  },
  {
   "cell_type": "code",
   "execution_count": null,
   "metadata": {},
   "outputs": [],
   "source": [
    "bugs = dict()\n",
    "bugs['E001'] = E001 / E * 100\n",
    "bugs['E002'] = E002 / E * 100\n",
    "bugs['E003'] = E003 / E * 100\n",
    "bugs['E004'] = E004 / E * 100\n",
    "bugs['E005'] = E005 / E * 100\n",
    "bugs['E006'] = E006 / E * 100\n",
    "bugs['E007'] = E007 / E * 100\n",
    "bugs['E008'] = E008 / E * 100\n",
    "bugs['E009'] = E009 / E * 100\n",
    "bugs['E010'] = E010 / E * 100\n",
    "bugs['E011'] = E011 / E * 100\n",
    "bugs['E012'] = E012 / E * 100\n",
    "bugs['E013'] = E013 / E * 100\n",
    "bugs['E014'] = E014 / E * 100\n",
    "bugs['E015'] = E015 / E * 100\n",
    "bugs['E016'] = E016 / E * 100\n",
    "bugs['E017'] = E017 / E * 100\n",
    "bugs['E018'] = E018 / E * 100\n",
    "bugs['E019'] = E019 / E * 100\n",
    "bugs['E020'] = E020 / E * 100\n",
    "bugs['E021'] = E021 / E * 100\n",
    "bugs['E022'] = E022 / E * 100\n",
    "bugs['E023'] = E023 / E * 100\n",
    "bugs['E024'] = E024 / E * 100\n",
    "bugs['E025'] = E025 / E * 100\n",
    "bugs = dict(sorted(bugs.items(), key=lambda item: item[1]))\n",
    "bugs"
   ]
  },
  {
   "cell_type": "code",
   "execution_count": null,
   "metadata": {},
   "outputs": [],
   "source": [
    "get_bugs = 'SELECT * FROM bugs'\n",
    "get_query = 'SELECT * FROM queries WHERE query_id = %(id)s'\n",
    "bugs = pd.read_sql(get_bugs, conn)\n",
    "\n",
    "query_bugs = list()\n",
    "query_complexities = list()\n",
    "\n",
    "def compute_query_complexity(row):\n",
    "    errors = row.errors.replace('[', '').replace(']', '').split(',')\n",
    "    query = pd.read_sql(get_query, params={'id': row.query_id}, con=conn)\n",
    "    predicates = int(query.iloc[0][5])\n",
    "    joins      = int(query.iloc[0][6])\n",
    "    subqueries = int(query.iloc[0][7])\n",
    "    functions  = int(query.iloc[0][8])\n",
    "    columns    = int(query.iloc[0][9])\n",
    "    complexity = predicates + joins + subqueries + functions + columns\n",
    "    query_bugs.append(len(errors))\n",
    "    query_complexities.append(complexity)\n",
    "\n",
    "bugs['errors'] = bugs.apply(compute_query_complexity, axis=1)"
   ]
  },
  {
   "cell_type": "code",
   "execution_count": null,
   "metadata": {},
   "outputs": [],
   "source": [
    "get_bugs = 'SELECT * FROM evo_sql_bugs'\n",
    "get_query = 'SELECT * FROM evo_sql_queries WHERE query_id = %(id)s'\n",
    "bugs = pd.read_sql(get_bugs, conn)\n",
    "\n",
    "def compute_query_complexity(row):\n",
    "    errors = row.errors.replace('[', '').replace(']', '').split(',')\n",
    "    query = pd.read_sql(get_query, params={'id': row.query_id}, con=conn)\n",
    "    predicates = int(query.iloc[0][5])\n",
    "    joins      = int(query.iloc[0][6])\n",
    "    subqueries = int(query.iloc[0][7])\n",
    "    functions  = int(query.iloc[0][8])\n",
    "    columns    = int(query.iloc[0][9])\n",
    "    complexity = predicates + joins + subqueries + functions + columns\n",
    "    query_bugs.append(len(errors))\n",
    "    query_complexities.append(complexity)\n",
    "\n",
    "bugs['errors'] = bugs.apply(compute_query_complexity, axis=1)"
   ]
  },
  {
   "cell_type": "code",
   "execution_count": null,
   "metadata": {},
   "outputs": [],
   "source": [
    "print(f'bugs: {len(query_bugs)}')\n",
    "print(f'complexities: {len(query_complexities)}')"
   ]
  },
  {
   "cell_type": "code",
   "execution_count": null,
   "metadata": {},
   "outputs": [],
   "source": [
    "with open('pickles/query_bugs.pkl', 'wb') as f:\n",
    "    pickle.dump(query_bugs, f)"
   ]
  },
  {
   "cell_type": "code",
   "execution_count": null,
   "metadata": {},
   "outputs": [],
   "source": [
    "with open('pickles/query_bugs.pkl', 'rb') as f:\n",
    "    query_bugs = pickle.load(f)\n",
    "len(query_bugs)"
   ]
  },
  {
   "cell_type": "code",
   "execution_count": null,
   "metadata": {},
   "outputs": [],
   "source": [
    "with open('pickles/query_complexities.pkl', 'wb') as f:\n",
    "    pickle.dump(query_complexities, f)"
   ]
  },
  {
   "cell_type": "code",
   "execution_count": null,
   "metadata": {},
   "outputs": [],
   "source": [
    "with open('pickles/query_complexities.pkl', 'rb') as f:\n",
    "    query_complexities = pickle.load(f)\n",
    "len(query_complexities)"
   ]
  },
  {
   "cell_type": "code",
   "execution_count": null,
   "metadata": {
    "scrolled": true
   },
   "outputs": [],
   "source": [
    "_data = {'bugs': query_bugs, 'complexity': query_complexities}\n",
    "df = pd.DataFrame(_data)\n",
    "df.head(20)"
   ]
  },
  {
   "cell_type": "code",
   "execution_count": null,
   "metadata": {},
   "outputs": [],
   "source": [
    "sns.scatterplot(data = df, x = 'bugs', y = 'complexity', rasterized=True)\n",
    "# plt.savefig('complexity.pdf', dpi=300, format='pdf', bbox_inches='tight')\n",
    "plt.show()"
   ]
  },
  {
   "cell_type": "code",
   "execution_count": null,
   "metadata": {},
   "outputs": [],
   "source": [
    "sns.boxplot(x = 'bugs', y = 'complexity', data=df, flierprops = dict(markerfacecolor = '0.50', markersize = 2), palette='Blues')\n",
    "plt.savefig('complexity_box.pdf', dpi=300, format='pdf', bbox_inches='tight')\n",
    "plt.show()"
   ]
  },
  {
   "cell_type": "code",
   "execution_count": null,
   "metadata": {},
   "outputs": [],
   "source": [
    "sns.displot(data = df, x = 'complexity', bins=250)\n",
    "# plt.savefig('complexity_distribution.pdf', dpi=300, format='pdf', bbox_inches='tight')\n",
    "plt.show()"
   ]
  },
  {
   "cell_type": "code",
   "execution_count": null,
   "metadata": {},
   "outputs": [],
   "source": [
    "# Pearson's r\n",
    "scipy.stats.pearsonr(query_bugs, query_complexities)"
   ]
  },
  {
   "cell_type": "code",
   "execution_count": null,
   "metadata": {},
   "outputs": [],
   "source": [
    "# Spearman's rho\n",
    "scipy.stats.spearmanr(query_bugs, query_complexities)"
   ]
  },
  {
   "cell_type": "code",
   "execution_count": null,
   "metadata": {},
   "outputs": [],
   "source": [
    "# Kendall's tau\n",
    "scipy.stats.kendalltau(query_bugs, query_complexities)"
   ]
  },
  {
   "cell_type": "code",
   "execution_count": null,
   "metadata": {},
   "outputs": [],
   "source": [
    "b1 = df.loc[df['bugs'] == 1]['complexity']\n",
    "b2 = df.loc[df['bugs'] == 2]['complexity']\n",
    "b3 = df.loc[df['bugs'] == 3]['complexity']\n",
    "b4 = df.loc[df['bugs'] == 4]['complexity']\n",
    "b5 = df.loc[df['bugs'] == 5]['complexity']"
   ]
  },
  {
   "cell_type": "code",
   "execution_count": null,
   "metadata": {},
   "outputs": [],
   "source": [
    "f_oneway(b1, b2, b3, b4, b5)"
   ]
  }
 ],
 "metadata": {
  "kernelspec": {
   "display_name": "Python 3",
   "language": "python",
   "name": "python3"
  },
  "language_info": {
   "codemirror_mode": {
    "name": "ipython",
    "version": 3
   },
   "file_extension": ".py",
   "mimetype": "text/x-python",
   "name": "python",
   "nbconvert_exporter": "python",
   "pygments_lexer": "ipython3",
   "version": "3.7.4"
  }
 },
 "nbformat": 4,
 "nbformat_minor": 2
}
