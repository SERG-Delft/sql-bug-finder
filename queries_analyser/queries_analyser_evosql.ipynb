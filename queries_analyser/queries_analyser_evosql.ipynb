{
 "cells": [
  {
   "cell_type": "markdown",
   "metadata": {},
   "source": [
    "### Imports"
   ]
  },
  {
   "cell_type": "code",
   "execution_count": 1,
   "metadata": {},
   "outputs": [],
   "source": [
    "import os\n",
    "import pymysql\n",
    "import datetime\n",
    "import pandas as pd\n",
    "import matplotlib.pyplot as plt\n",
    "%matplotlib inline"
   ]
  },
  {
   "cell_type": "markdown",
   "metadata": {},
   "source": [
    "### MySQL Settings"
   ]
  },
  {
   "cell_type": "code",
   "execution_count": 2,
   "metadata": {},
   "outputs": [],
   "source": [
    "conn = pymysql.connect(host='localhost', port=3306, user='root', password='root', db='homedb')"
   ]
  },
  {
   "cell_type": "markdown",
   "metadata": {},
   "source": [
    "### Code"
   ]
  },
  {
   "cell_type": "markdown",
   "metadata": {},
   "source": [
    "##### RQ 2: How many of the extracted SQL queries are syntactically valid?"
   ]
  },
  {
   "cell_type": "code",
   "execution_count": 3,
   "metadata": {},
   "outputs": [
    {
     "name": "stdout",
     "output_type": "stream",
     "text": [
      "valid queries: 19153\n",
      "invalid queries: 6\n"
     ]
    }
   ],
   "source": [
    "get_valid_queries = 'SELECT * FROM evo_sql_queries WHERE is_valid = 1'\n",
    "get_invalid_queries = 'SELECT * FROM evo_sql_queries WHERE is_valid = 0'\n",
    "\n",
    "valid_queries = pd.read_sql(get_valid_queries, conn)\n",
    "invalid_queries = pd.read_sql(get_invalid_queries, conn)\n",
    "print(f'valid queries: {len(valid_queries)}')\n",
    "print(f'invalid queries: {len(invalid_queries)}')"
   ]
  },
  {
   "cell_type": "markdown",
   "metadata": {},
   "source": [
    "##### RQ 3: How many of the extracted SQL queries have semantic bugs?"
   ]
  },
  {
   "cell_type": "code",
   "execution_count": 4,
   "metadata": {},
   "outputs": [
    {
     "name": "stdout",
     "output_type": "stream",
     "text": [
      "queries with semantic bugs: 8441\n"
     ]
    }
   ],
   "source": [
    "get_bugs = 'SELECT * FROM evo_sql_bugs'\n",
    "\n",
    "bugs = pd.read_sql(get_bugs, conn)\n",
    "print(f'queries with semantic bugs: {len(bugs)}')"
   ]
  },
  {
   "cell_type": "markdown",
   "metadata": {},
   "source": [
    "##### RQ 4: How many semantic bugs do the extracted queries have on average?"
   ]
  },
  {
   "cell_type": "code",
   "execution_count": 5,
   "metadata": {},
   "outputs": [
    {
     "name": "stdout",
     "output_type": "stream",
     "text": [
      "semantic bugs on average: 0.44071424842061296\n"
     ]
    }
   ],
   "source": [
    "get_bugs = 'SELECT * FROM evo_sql_bugs'\n",
    "\n",
    "bugs_dict = dict()\n",
    "bugs = pd.read_sql(get_bugs, conn)\n",
    "\n",
    "def count_bugs(row):\n",
    "    errors = row.errors.split(',')\n",
    "    num = len(errors)\n",
    "    bugs_dict[num] = bugs_dict.get(num, 0) + 1\n",
    "    return num\n",
    "\n",
    "bugs['errors'] = bugs.apply(count_bugs, axis=1)\n",
    "tmp = bugs['errors'].count() / len(valid_queries)\n",
    "print(f'semantic bugs on average: {tmp}')"
   ]
  },
  {
   "cell_type": "code",
   "execution_count": 6,
   "metadata": {},
   "outputs": [
    {
     "data": {
      "text/plain": [
       "<matplotlib.axes._subplots.AxesSubplot at 0x1de25b2b448>"
      ]
     },
     "execution_count": 6,
     "metadata": {},
     "output_type": "execute_result"
    },
    {
     "data": {
      "image/png": "[encoded data removed]",
      "text/plain": [
       "<Figure size 432x288 with 1 Axes>"
      ]
     },
     "metadata": {
      "needs_background": "light"
     },
     "output_type": "display_data"
    }
   ],
   "source": [
    "bugs['errors'].hist(bins=10)"
   ]
  },
  {
   "cell_type": "code",
   "execution_count": 7,
   "metadata": {},
   "outputs": [
    {
     "name": "stdout",
     "output_type": "stream",
     "text": [
      "{1: 8326, 2: 115}\n"
     ]
    }
   ],
   "source": [
    "print(bugs_dict)"
   ]
  },
  {
   "cell_type": "markdown",
   "metadata": {},
   "source": [
    "##### RQ 5: What is the distribution of the semantic bugs?"
   ]
  },
  {
   "cell_type": "code",
   "execution_count": 8,
   "metadata": {},
   "outputs": [],
   "source": [
    "get_bugs = 'SELECT * FROM evo_sql_bugs'\n",
    "error_codes = dict()\n",
    "\n",
    "bugs = pd.read_sql(get_bugs, conn)\n",
    "\n",
    "def count_error_codes(row):\n",
    "    errors = row.errors.replace('[', '').replace(']', '')\n",
    "    errors = errors.split(',')\n",
    "    for error in errors:\n",
    "        error = error.replace(',', '').strip()\n",
    "        if error_codes.get(error) is not None:\n",
    "            error_codes[error] += 1\n",
    "        else:\n",
    "            error_codes[error] = 1\n",
    "\n",
    "bugs['errors'] = bugs.apply(count_error_codes, axis=1)\n",
    "error_codes_sorted = dict()\n",
    "for key in sorted(error_codes):\n",
    "    error_codes_sorted[key] = error_codes[key]\n",
    "error_codes = error_codes_sorted"
   ]
  },
  {
   "cell_type": "code",
   "execution_count": 12,
   "metadata": {},
   "outputs": [
    {
     "data": {
      "image/png": "[encoded data removed]",
      "text/plain": [
       "<Figure size 1080x360 with 1 Axes>"
      ]
     },
     "metadata": {
      "needs_background": "light"
     },
     "output_type": "display_data"
    }
   ],
   "source": [
    "plt.figure(figsize=(15, 5))\n",
    "plt.bar(range(len(error_codes)), list(error_codes.values()), align='edge', width=0.3)\n",
    "plt.xticks(range(len(error_codes)), list(error_codes.keys()))\n",
    "plt.savefig('prevalence_evosql.pdf', dpi=300, format='pdf', bbox_inches='tight')\n",
    "plt.show()"
   ]
  },
  {
   "cell_type": "code",
   "execution_count": 10,
   "metadata": {},
   "outputs": [],
   "source": [
    "E = len(pd.read_sql('SELECT * FROM evo_sql_queries WHERE is_valid = 1', conn))\n",
    "E001 = len(pd.read_sql('SELECT * FROM evo_sql_bugs WHERE errors LIKE \"%E001%\"', conn))\n",
    "E002 = len(pd.read_sql('SELECT * FROM evo_sql_bugs WHERE errors LIKE \"%E002%\"', conn))\n",
    "E003 = len(pd.read_sql('SELECT * FROM evo_sql_bugs WHERE errors LIKE \"%E003%\"', conn))\n",
    "E004 = len(pd.read_sql('SELECT * FROM evo_sql_bugs WHERE errors LIKE \"%E004%\"', conn))\n",
    "E005 = len(pd.read_sql('SELECT * FROM evo_sql_bugs WHERE errors LIKE \"%E005%\"', conn))\n",
    "E006 = len(pd.read_sql('SELECT * FROM evo_sql_bugs WHERE errors LIKE \"%E006%\"', conn))\n",
    "E007 = len(pd.read_sql('SELECT * FROM evo_sql_bugs WHERE errors LIKE \"%E007%\"', conn))\n",
    "E008 = len(pd.read_sql('SELECT * FROM evo_sql_bugs WHERE errors LIKE \"%E008%\"', conn))\n",
    "E009 = len(pd.read_sql('SELECT * FROM evo_sql_bugs WHERE errors LIKE \"%E009%\"', conn))\n",
    "E010 = len(pd.read_sql('SELECT * FROM evo_sql_bugs WHERE errors LIKE \"%E010%\"', conn))\n",
    "E011 = len(pd.read_sql('SELECT * FROM evo_sql_bugs WHERE errors LIKE \"%E011%\"', conn))\n",
    "E012 = len(pd.read_sql('SELECT * FROM evo_sql_bugs WHERE errors LIKE \"%E012%\"', conn))\n",
    "E013 = len(pd.read_sql('SELECT * FROM evo_sql_bugs WHERE errors LIKE \"%E013%\"', conn))\n",
    "E014 = len(pd.read_sql('SELECT * FROM evo_sql_bugs WHERE errors LIKE \"%E014%\"', conn))\n",
    "E015 = len(pd.read_sql('SELECT * FROM evo_sql_bugs WHERE errors LIKE \"%E015%\"', conn))\n",
    "E016 = len(pd.read_sql('SELECT * FROM evo_sql_bugs WHERE errors LIKE \"%E016%\"', conn))\n",
    "E017 = len(pd.read_sql('SELECT * FROM evo_sql_bugs WHERE errors LIKE \"%E017%\"', conn))\n",
    "E018 = len(pd.read_sql('SELECT * FROM evo_sql_bugs WHERE errors LIKE \"%E018%\"', conn))\n",
    "E019 = len(pd.read_sql('SELECT * FROM evo_sql_bugs WHERE errors LIKE \"%E019%\"', conn))\n",
    "E020 = len(pd.read_sql('SELECT * FROM evo_sql_bugs WHERE errors LIKE \"%E020%\"', conn))\n",
    "E021 = len(pd.read_sql('SELECT * FROM evo_sql_bugs WHERE errors LIKE \"%E021%\"', conn))\n",
    "E022 = len(pd.read_sql('SELECT * FROM evo_sql_bugs WHERE errors LIKE \"%E022%\"', conn))\n",
    "E023 = len(pd.read_sql('SELECT * FROM evo_sql_bugs WHERE errors LIKE \"%E023%\"', conn))\n",
    "E024 = len(pd.read_sql('SELECT * FROM evo_sql_bugs WHERE errors LIKE \"%E024%\"', conn))\n",
    "E025 = len(pd.read_sql('SELECT * FROM evo_sql_bugs WHERE errors LIKE \"%E025%\"', conn))"
   ]
  },
  {
   "cell_type": "code",
   "execution_count": 11,
   "metadata": {},
   "outputs": [
    {
     "data": {
      "text/plain": [
       "{'E001': 0.0,\n",
       " 'E004': 0.0,\n",
       " 'E005': 0.0,\n",
       " 'E007': 0.0,\n",
       " 'E008': 0.0,\n",
       " 'E009': 0.0,\n",
       " 'E011': 0.0,\n",
       " 'E013': 0.0,\n",
       " 'E014': 0.0,\n",
       " 'E015': 0.0,\n",
       " 'E016': 0.0,\n",
       " 'E017': 0.0,\n",
       " 'E018': 0.0,\n",
       " 'E022': 0.0,\n",
       " 'E023': 0.0,\n",
       " 'E020': 0.0052211141857672425,\n",
       " 'E024': 0.04699002767190519,\n",
       " 'E003': 0.057432256043439676,\n",
       " 'E021': 0.057432256043439676,\n",
       " 'E025': 0.0730955986007414,\n",
       " 'E010': 0.18796011068762075,\n",
       " 'E012': 0.2819401660314311,\n",
       " 'E019': 0.3341513078891035,\n",
       " 'E006': 0.39158356393254323,\n",
       " 'E002': 43.23604657233854}"
      ]
     },
     "execution_count": 11,
     "metadata": {},
     "output_type": "execute_result"
    }
   ],
   "source": [
    "bugs = dict()\n",
    "bugs['E001'] = E001 / E * 100\n",
    "bugs['E002'] = E002 / E * 100\n",
    "bugs['E003'] = E003 / E * 100\n",
    "bugs['E004'] = E004 / E * 100\n",
    "bugs['E005'] = E005 / E * 100\n",
    "bugs['E006'] = E006 / E * 100\n",
    "bugs['E007'] = E007 / E * 100\n",
    "bugs['E008'] = E008 / E * 100\n",
    "bugs['E009'] = E009 / E * 100\n",
    "bugs['E010'] = E010 / E * 100\n",
    "bugs['E011'] = E011 / E * 100\n",
    "bugs['E012'] = E012 / E * 100\n",
    "bugs['E013'] = E013 / E * 100\n",
    "bugs['E014'] = E014 / E * 100\n",
    "bugs['E015'] = E015 / E * 100\n",
    "bugs['E016'] = E016 / E * 100\n",
    "bugs['E017'] = E017 / E * 100\n",
    "bugs['E018'] = E018 / E * 100\n",
    "bugs['E019'] = E019 / E * 100\n",
    "bugs['E020'] = E020 / E * 100\n",
    "bugs['E021'] = E021 / E * 100\n",
    "bugs['E022'] = E022 / E * 100\n",
    "bugs['E023'] = E023 / E * 100\n",
    "bugs['E024'] = E024 / E * 100\n",
    "bugs['E025'] = E025 / E * 100\n",
    "bugs = dict(sorted(bugs.items(), key=lambda item: item[1]))\n",
    "bugs"
   ]
  },
  {
   "cell_type": "markdown",
   "metadata": {},
   "source": [
    "### Generate co-occurrence matrix for evosql dataset"
   ]
  },
  {
   "cell_type": "code",
   "execution_count": 19,
   "metadata": {},
   "outputs": [],
   "source": [
    "import copy\n",
    "import math\n",
    "import pymysql\n",
    "import numpy as np\n",
    "import pandas as pd"
   ]
  },
  {
   "cell_type": "code",
   "execution_count": 15,
   "metadata": {},
   "outputs": [],
   "source": [
    "error_labels = 'E001 E002 E003 E004 E005 E006 E007 E008 E009 E010 E011 E012 E013 E014 E015 E016 E017 E018 E019 E020 E021 E022 E023 E024 E025'.split(' ')"
   ]
  },
  {
   "cell_type": "code",
   "execution_count": 16,
   "metadata": {},
   "outputs": [],
   "source": [
    "get_bugs = 'SELECT * FROM evo_sql_bugs'\n",
    "error_codes = np.empty((0, 25), int)\n",
    "\n",
    "bugs = pd.read_sql(get_bugs, conn)\n",
    "\n",
    "def get_error_code(error):\n",
    "    if 'E00' in error:\n",
    "        return int(error.split('E00')[1])\n",
    "    return int(error.split('E0')[1])\n",
    "\n",
    "def count_error_codes(row):\n",
    "    global error_codes\n",
    "    error_codes = np.append(error_codes, np.array([np.zeros(25, dtype=int)]), axis=0)\n",
    "    row_index = len(error_codes) - 1\n",
    "    errors = row.errors.replace('[', '').replace(']', '')\n",
    "    errors = errors.split(',')\n",
    "    for error in errors:\n",
    "        error = error.replace(',', '').strip()\n",
    "        col_index = get_error_code(error) - 1\n",
    "        error_codes[row_index, col_index] = 1\n",
    "\n",
    "bugs['errors'] = bugs.apply(count_error_codes, axis=1)"
   ]
  },
  {
   "cell_type": "code",
   "execution_count": 20,
   "metadata": {},
   "outputs": [
    {
     "name": "stdout",
     "output_type": "stream",
     "text": [
      "\n",
      "cooccurrence_matrix:\n",
      "[[ 0  0  0  0  0  0  0  0  0  0  0  0  0  0  0  0  0  0  0  0  0  0  0  0\n",
      "   0]\n",
      " [ 0  0 10  0  0  0  0  0  0 27  0  0  0  0  0  0  0  0 58  0  0  0  0  6\n",
      "   6]\n",
      " [ 0 10  0  0  0  0  0  0  0  0  0  0  0  0  0  0  0  0  0  0  0  0  0  0\n",
      "   0]\n",
      " [ 0  0  0  0  0  0  0  0  0  0  0  0  0  0  0  0  0  0  0  0  0  0  0  0\n",
      "   0]\n",
      " [ 0  0  0  0  0  0  0  0  0  0  0  0  0  0  0  0  0  0  0  0  0  0  0  0\n",
      "   0]\n",
      " [ 0  0  0  0  0  0  0  0  0  0  0  0  0  0  0  0  0  0  0  0  2  0  0  0\n",
      "   0]\n",
      " [ 0  0  0  0  0  0  0  0  0  0  0  0  0  0  0  0  0  0  0  0  0  0  0  0\n",
      "   0]\n",
      " [ 0  0  0  0  0  0  0  0  0  0  0  0  0  0  0  0  0  0  0  0  0  0  0  0\n",
      "   0]\n",
      " [ 0  0  0  0  0  0  0  0  0  0  0  0  0  0  0  0  0  0  0  0  0  0  0  0\n",
      "   0]\n",
      " [ 0 27  0  0  0  0  0  0  0  0  0  0  0  0  0  0  0  0  0  0  0  0  0  0\n",
      "   0]\n",
      " [ 0  0  0  0  0  0  0  0  0  0  0  0  0  0  0  0  0  0  0  0  0  0  0  0\n",
      "   0]\n",
      " [ 0  0  0  0  0  0  0  0  0  0  0  0  0  0  0  0  0  0  3  0  0  0  0  0\n",
      "   0]\n",
      " [ 0  0  0  0  0  0  0  0  0  0  0  0  0  0  0  0  0  0  0  0  0  0  0  0\n",
      "   0]\n",
      " [ 0  0  0  0  0  0  0  0  0  0  0  0  0  0  0  0  0  0  0  0  0  0  0  0\n",
      "   0]\n",
      " [ 0  0  0  0  0  0  0  0  0  0  0  0  0  0  0  0  0  0  0  0  0  0  0  0\n",
      "   0]\n",
      " [ 0  0  0  0  0  0  0  0  0  0  0  0  0  0  0  0  0  0  0  0  0  0  0  0\n",
      "   0]\n",
      " [ 0  0  0  0  0  0  0  0  0  0  0  0  0  0  0  0  0  0  0  0  0  0  0  0\n",
      "   0]\n",
      " [ 0  0  0  0  0  0  0  0  0  0  0  0  0  0  0  0  0  0  0  0  0  0  0  0\n",
      "   0]\n",
      " [ 0 58  0  0  0  0  0  0  0  0  0  3  0  0  0  0  0  0  0  0  0  0  0  0\n",
      "   3]\n",
      " [ 0  0  0  0  0  0  0  0  0  0  0  0  0  0  0  0  0  0  0  0  0  0  0  0\n",
      "   0]\n",
      " [ 0  0  0  0  0  2  0  0  0  0  0  0  0  0  0  0  0  0  0  0  0  0  0  0\n",
      "   0]\n",
      " [ 0  0  0  0  0  0  0  0  0  0  0  0  0  0  0  0  0  0  0  0  0  0  0  0\n",
      "   0]\n",
      " [ 0  0  0  0  0  0  0  0  0  0  0  0  0  0  0  0  0  0  0  0  0  0  0  0\n",
      "   0]\n",
      " [ 0  6  0  0  0  0  0  0  0  0  0  0  0  0  0  0  0  0  0  0  0  0  0  0\n",
      "   0]\n",
      " [ 0  6  0  0  0  0  0  0  0  0  0  0  0  0  0  0  0  0  3  0  0  0  0  0\n",
      "   0]]\n",
      "\n",
      "cooccurrence_matrix_percentage:\n",
      "[[0.         0.         0.         0.         0.         0.\n",
      "  0.         0.         0.         0.         0.         0.\n",
      "  0.         0.         0.         0.         0.         0.\n",
      "  0.         0.         0.         0.         0.         0.\n",
      "  0.        ]\n",
      " [0.         0.         0.08547009 0.         0.         0.\n",
      "  0.         0.         0.         0.20149254 0.         0.\n",
      "  0.         0.         0.         0.         0.         0.\n",
      "  0.33918129 0.         0.         0.         0.         0.05309735\n",
      "  0.05172414]\n",
      " [0.         0.08547009 0.         0.         0.         0.\n",
      "  0.         0.         0.         0.         0.         0.\n",
      "  0.         0.         0.         0.         0.         0.\n",
      "  0.         0.         0.         0.         0.         0.\n",
      "  0.        ]\n",
      " [0.         0.         0.         0.         0.         0.\n",
      "  0.         0.         0.         0.         0.         0.\n",
      "  0.         0.         0.         0.         0.         0.\n",
      "  0.         0.         0.         0.         0.         0.\n",
      "  0.        ]\n",
      " [0.         0.         0.         0.         0.         0.\n",
      "  0.         0.         0.         0.         0.         0.\n",
      "  0.         0.         0.         0.         0.         0.\n",
      "  0.         0.         0.         0.         0.         0.\n",
      "  0.        ]\n",
      " [0.         0.         0.         0.         0.         0.\n",
      "  0.         0.         0.         0.         0.         0.\n",
      "  0.         0.         0.         0.         0.         0.\n",
      "  0.         0.         0.5        0.         0.         0.\n",
      "  0.        ]\n",
      " [0.         0.         0.         0.         0.         0.\n",
      "  0.         0.         0.         0.         0.         0.\n",
      "  0.         0.         0.         0.         0.         0.\n",
      "  0.         0.         0.         0.         0.         0.\n",
      "  0.        ]\n",
      " [0.         0.         0.         0.         0.         0.\n",
      "  0.         0.         0.         0.         0.         0.\n",
      "  0.         0.         0.         0.         0.         0.\n",
      "  0.         0.         0.         0.         0.         0.\n",
      "  0.        ]\n",
      " [0.         0.         0.         0.         0.         0.\n",
      "  0.         0.         0.         0.         0.         0.\n",
      "  0.         0.         0.         0.         0.         0.\n",
      "  0.         0.         0.         0.         0.         0.\n",
      "  0.        ]\n",
      " [0.         0.20149254 0.         0.         0.         0.\n",
      "  0.         0.         0.         0.         0.         0.\n",
      "  0.         0.         0.         0.         0.         0.\n",
      "  0.         0.         0.         0.         0.         0.\n",
      "  0.        ]\n",
      " [0.         0.         0.         0.         0.         0.\n",
      "  0.         0.         0.         0.         0.         0.\n",
      "  0.         0.         0.         0.         0.         0.\n",
      "  0.         0.         0.         0.         0.         0.\n",
      "  0.        ]\n",
      " [0.         0.         0.         0.         0.         0.\n",
      "  0.         0.         0.         0.         0.         0.\n",
      "  0.         0.         0.         0.         0.         0.\n",
      "  0.04477612 0.         0.         0.         0.         0.\n",
      "  0.        ]\n",
      " [0.         0.         0.         0.         0.         0.\n",
      "  0.         0.         0.         0.         0.         0.\n",
      "  0.         0.         0.         0.         0.         0.\n",
      "  0.         0.         0.         0.         0.         0.\n",
      "  0.        ]\n",
      " [0.         0.         0.         0.         0.         0.\n",
      "  0.         0.         0.         0.         0.         0.\n",
      "  0.         0.         0.         0.         0.         0.\n",
      "  0.         0.         0.         0.         0.         0.\n",
      "  0.        ]\n",
      " [0.         0.         0.         0.         0.         0.\n",
      "  0.         0.         0.         0.         0.         0.\n",
      "  0.         0.         0.         0.         0.         0.\n",
      "  0.         0.         0.         0.         0.         0.\n",
      "  0.        ]\n",
      " [0.         0.         0.         0.         0.         0.\n",
      "  0.         0.         0.         0.         0.         0.\n",
      "  0.         0.         0.         0.         0.         0.\n",
      "  0.         0.         0.         0.         0.         0.\n",
      "  0.        ]\n",
      " [0.         0.         0.         0.         0.         0.\n",
      "  0.         0.         0.         0.         0.         0.\n",
      "  0.         0.         0.         0.         0.         0.\n",
      "  0.         0.         0.         0.         0.         0.\n",
      "  0.        ]\n",
      " [0.         0.         0.         0.         0.         0.\n",
      "  0.         0.         0.         0.         0.         0.\n",
      "  0.         0.         0.         0.         0.         0.\n",
      "  0.         0.         0.         0.         0.         0.\n",
      "  0.        ]\n",
      " [0.         0.33918129 0.         0.         0.         0.\n",
      "  0.         0.         0.         0.         0.         0.04477612\n",
      "  0.         0.         0.         0.         0.         0.\n",
      "  0.         0.         0.         0.         0.         0.\n",
      "  0.04109589]\n",
      " [0.         0.         0.         0.         0.         0.\n",
      "  0.         0.         0.         0.         0.         0.\n",
      "  0.         0.         0.         0.         0.         0.\n",
      "  0.         0.         0.         0.         0.         0.\n",
      "  0.        ]\n",
      " [0.         0.         0.         0.         0.         0.5\n",
      "  0.         0.         0.         0.         0.         0.\n",
      "  0.         0.         0.         0.         0.         0.\n",
      "  0.         0.         0.         0.         0.         0.\n",
      "  0.        ]\n",
      " [0.         0.         0.         0.         0.         0.\n",
      "  0.         0.         0.         0.         0.         0.\n",
      "  0.         0.         0.         0.         0.         0.\n",
      "  0.         0.         0.         0.         0.         0.\n",
      "  0.        ]\n",
      " [0.         0.         0.         0.         0.         0.\n",
      "  0.         0.         0.         0.         0.         0.\n",
      "  0.         0.         0.         0.         0.         0.\n",
      "  0.         0.         0.         0.         0.         0.\n",
      "  0.        ]\n",
      " [0.         0.05309735 0.         0.         0.         0.\n",
      "  0.         0.         0.         0.         0.         0.\n",
      "  0.         0.         0.         0.         0.         0.\n",
      "  0.         0.         0.         0.         0.         0.\n",
      "  0.        ]\n",
      " [0.         0.05172414 0.         0.         0.         0.\n",
      "  0.         0.         0.         0.         0.         0.\n",
      "  0.         0.         0.         0.         0.         0.\n",
      "  0.04109589 0.         0.         0.         0.         0.\n",
      "  0.        ]]\n"
     ]
    },
    {
     "name": "stderr",
     "output_type": "stream",
     "text": [
      "C:\\Users\\Coco\\Anaconda3\\lib\\site-packages\\ipykernel_launcher.py:16: RuntimeWarning: invalid value encountered in long_scalars\n",
      "  app.launch_new_instance()\n"
     ]
    }
   ],
   "source": [
    "# compute co-occurrence matrix\n",
    "cooccurrence_matrix = np.dot(error_codes.transpose(), error_codes)\n",
    "# fill diagonal with zeros\n",
    "np.fill_diagonal(cooccurrence_matrix, 0)\n",
    "print('\\ncooccurrence_matrix:\\n{0}'.format(cooccurrence_matrix))\n",
    "\n",
    "# compute co-occurrence matrix in percentage\n",
    "cooccurrence_matrix_percentage = np.empty((0, 25), float)\n",
    "\n",
    "row_index = 0\n",
    "for row in cooccurrence_matrix:\n",
    "    col_index = 0\n",
    "    cooccurrence_matrix_percentage = np.append(cooccurrence_matrix_percentage, np.array([np.zeros(25, dtype=float)]), axis=0)\n",
    "    for value in row:\n",
    "        tmp_sum = cooccurrence_matrix[row_index].sum() + cooccurrence_matrix[col_index].sum()\n",
    "        cooccurrence_matrix_percentage[row_index, col_index] = value / tmp_sum\n",
    "        if math.isnan(cooccurrence_matrix_percentage[row_index, col_index]):\n",
    "            cooccurrence_matrix_percentage[row_index, col_index] = 0.0\n",
    "        col_index += 1\n",
    "    row_index += 1\n",
    "print('\\ncooccurrence_matrix_percentage:\\n{0}'.format(cooccurrence_matrix_percentage))"
   ]
  },
  {
   "cell_type": "code",
   "execution_count": 21,
   "metadata": {},
   "outputs": [
    {
     "name": "stdout",
     "output_type": "stream",
     "text": [
      "labels:\n",
      "[[0 1 0 ... 0 0 0]\n",
      " [0 1 0 ... 0 0 0]\n",
      " [0 1 0 ... 0 0 0]\n",
      " ...\n",
      " [0 1 0 ... 0 0 0]\n",
      " [0 1 0 ... 0 0 0]\n",
      " [0 1 0 ... 0 0 0]]\n"
     ]
    },
    {
     "name": "stderr",
     "output_type": "stream",
     "text": [
      "C:\\Users\\Coco\\Anaconda3\\lib\\site-packages\\ipykernel_launcher.py:64: MatplotlibDeprecationWarning: \n",
      "The tick1On function was deprecated in Matplotlib 3.1 and will be removed in 3.3. Use Tick.tick1line.set_visible instead.\n",
      "C:\\Users\\Coco\\Anaconda3\\lib\\site-packages\\ipykernel_launcher.py:65: MatplotlibDeprecationWarning: \n",
      "The tick2On function was deprecated in Matplotlib 3.1 and will be removed in 3.3. Use Tick.tick2line.set_visible instead.\n",
      "C:\\Users\\Coco\\Anaconda3\\lib\\site-packages\\ipykernel_launcher.py:67: MatplotlibDeprecationWarning: \n",
      "The tick1On function was deprecated in Matplotlib 3.1 and will be removed in 3.3. Use Tick.tick1line.set_visible instead.\n",
      "C:\\Users\\Coco\\Anaconda3\\lib\\site-packages\\ipykernel_launcher.py:68: MatplotlibDeprecationWarning: \n",
      "The tick2On function was deprecated in Matplotlib 3.1 and will be removed in 3.3. Use Tick.tick2line.set_visible instead.\n"
     ]
    },
    {
     "data": {
      "image/png": "[encoded data removed]",
      "text/plain": [
       "<Figure size 1133.86x566.929 with 2 Axes>"
      ]
     },
     "metadata": {
      "needs_background": "light"
     },
     "output_type": "display_data"
    }
   ],
   "source": [
    "import numpy as np\n",
    "import matplotlib.pyplot as plt\n",
    "\n",
    "\n",
    "def show_values(pc, fmt=\"%.2f\", **kw):\n",
    "    '''\n",
    "    Heatmap with text in each cell with matplotlib's pyplot\n",
    "    Source: http://stackoverflow.com/a/25074150/395857 \n",
    "    By HYRY\n",
    "    '''\n",
    "    pc.update_scalarmappable()\n",
    "    ax = pc.axes\n",
    "    for p, color, value in zip(pc.get_paths(), pc.get_facecolors(), pc.get_array()):\n",
    "        x, y = p.vertices[:-2, :].mean(0)\n",
    "        if np.all(color[:3] > 0.5):\n",
    "            color = (0.0, 0.0, 0.0)\n",
    "        else:\n",
    "            color = (1.0, 1.0, 1.0)\n",
    "        ax.text(x, y, fmt % value, ha=\"center\", va=\"center\", color=color, **kw)\n",
    "\n",
    "def cm2inch(*tupl):\n",
    "    '''\n",
    "    Specify figure size in centimeter in matplotlib\n",
    "    Source: http://stackoverflow.com/a/22787457/395857\n",
    "    By gns-ank\n",
    "    '''\n",
    "    inch = 2.54\n",
    "    if type(tupl[0]) == tuple:\n",
    "        return tuple(i/inch for i in tupl[0])\n",
    "    else:\n",
    "        return tuple(i/inch for i in tupl)\n",
    "\n",
    "def heatmap(AUC, title, xlabel, ylabel, xticklabels, yticklabels):\n",
    "    '''\n",
    "    Inspired by:\n",
    "    - http://stackoverflow.com/a/16124677/395857 \n",
    "    - http://stackoverflow.com/a/25074150/395857\n",
    "    '''\n",
    "\n",
    "    # Plot it out\n",
    "    fig, ax = plt.subplots()    \n",
    "    c = ax.pcolor(AUC, edgecolors='k', linestyle= 'dashed', linewidths=0.2, cmap='RdBu', vmin=0.0, vmax=1.0)\n",
    "\n",
    "    # put the major ticks at the middle of each cell\n",
    "    ax.set_yticks(np.arange(AUC.shape[0]) + 0.5, minor=False)\n",
    "    ax.set_xticks(np.arange(AUC.shape[1]) + 0.5, minor=False)\n",
    "\n",
    "    # set tick labels\n",
    "    #ax.set_xticklabels(np.arange(1,AUC.shape[1]+1), minor=False)\n",
    "    ax.set_xticklabels(xticklabels, minor=False)\n",
    "    ax.set_yticklabels(yticklabels, minor=False)\n",
    "\n",
    "    # set title and x/y labels\n",
    "    plt.title(title)\n",
    "    plt.xlabel(xlabel)\n",
    "    plt.ylabel(ylabel)      \n",
    "\n",
    "    # Remove last blank column\n",
    "    plt.xlim( (0, AUC.shape[1]) )\n",
    "\n",
    "    # Turn off all the ticks\n",
    "    ax = plt.gca()    \n",
    "    for t in ax.xaxis.get_major_ticks():\n",
    "        t.tick1On = False\n",
    "        t.tick2On = False\n",
    "    for t in ax.yaxis.get_major_ticks():\n",
    "        t.tick1On = False\n",
    "        t.tick2On = False\n",
    "\n",
    "    # Add color bar\n",
    "    plt.colorbar(c)\n",
    "\n",
    "    # Add text in each cell \n",
    "    show_values(c)\n",
    "\n",
    "    # Proper orientation (origin at the top left instead of bottom left)\n",
    "    ax.invert_yaxis()\n",
    "    ax.xaxis.tick_top()\n",
    "\n",
    "    # resize \n",
    "    fig = plt.gcf()\n",
    "    fig.set_size_inches(cm2inch(40, 20))\n",
    "\n",
    "\n",
    "# Using previously computed error_codes and error_labels data\n",
    "label_headers = error_labels\n",
    "label_data = error_codes\n",
    "print('labels:\\n{0}'.format(label_data))\n",
    "np.fill_diagonal(cooccurrence_matrix_percentage, 1)\n",
    "\n",
    "# Plotting\n",
    "x_axis_size = cooccurrence_matrix_percentage.shape[0]\n",
    "y_axis_size = cooccurrence_matrix_percentage.shape[1]\n",
    "title = \"Co-occurrence matrix\\n\"\n",
    "xlabel= ''#\"Labels\"\n",
    "ylabel= ''#\"Labels\"\n",
    "xticklabels = label_headers\n",
    "yticklabels = label_headers\n",
    "heatmap(cooccurrence_matrix_percentage, title, xlabel, ylabel, xticklabels, yticklabels)\n",
    "plt.savefig('matrix_evosql.pdf', dpi=300, format='pdf', bbox_inches='tight') # use format='svg' or 'pdf' for vectorial pictures\n",
    "plt.show()"
   ]
  }
 ],
 "metadata": {
  "kernelspec": {
   "display_name": "Python 3",
   "language": "python",
   "name": "python3"
  },
  "language_info": {
   "codemirror_mode": {
    "name": "ipython",
    "version": 3
   },
   "file_extension": ".py",
   "mimetype": "text/x-python",
   "name": "python",
   "nbconvert_exporter": "python",
   "pygments_lexer": "ipython3",
   "version": "3.7.4"
  }
 },
 "nbformat": 4,
 "nbformat_minor": 2
}
